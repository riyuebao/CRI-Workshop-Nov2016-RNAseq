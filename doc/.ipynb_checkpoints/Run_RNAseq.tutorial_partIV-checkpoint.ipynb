{
 "cells": [
  {
   "cell_type": "markdown",
   "metadata": {},
   "source": [
    "# AMIA 2016 Annual Symposium Workshop (WG13)\n",
    "\n",
    "## Automated and Scalable Cloud-based RNA-Seq Data Analysis, Part IV\n",
    "\n",
    "\n",
    "Riyue Bao, Ph.D. \n",
    "Center for Research Informatics,\n",
    "The University of Chicago.\n",
    "November 13, 2016\n",
    "\n",
    "***\n",
    "\n",
    "## Objective\n",
    "\n",
    "* Learn the background and application of The Cancer Genome Atlas (TCGA)\n",
    "* Learn the structure and access of Genomics Data Commons (GDS)\n",
    "* Explore datasets hosted on GDC\n",
    "* Practice how to associate gene expression with clincial data\n",
    "\n",
    "***\n",
    "\n",
    "## Dataset\n",
    "\n",
    "Genomics Data Commons (GDC), Lymphoid Neoplasm Diffuse Large B-cell Lymphoma (DLBC), Expression and Clinical data\n",
    "<https://gdc-portal.nci.nih.gov>\n",
    "\n",
    "***\n",
    "\n",
    "## Associate gene expression with clincial outcome: Survival Analysis\n",
    "\n",
    "Commonly used tool / package for survival include `survival`.\n",
    "\n",
    "In this workshop, We will demo how to use `survival` to identify if PRDM11 gene expression is a prognosis factor of DLBC.\n",
    "\n",
    "***\n",
    "\n",
    "### Clean the environment"
   ]
  },
  {
   "cell_type": "code",
   "execution_count": 1,
   "metadata": {
    "collapsed": true
   },
   "outputs": [],
   "source": [
    "rm(list=ls())"
   ]
  },
  {
   "cell_type": "markdown",
   "metadata": {},
   "source": [
    "### Load libraries / packages"
   ]
  },
  {
   "cell_type": "code",
   "execution_count": 2,
   "metadata": {
    "collapsed": false
   },
   "outputs": [
    {
     "name": "stdout",
     "output_type": "stream",
     "text": [
      "[1] \"\"\n",
      "[1] \"survival\"\n"
     ]
    }
   ],
   "source": [
    "##-- List packages required in this analysis\n",
    "cpan.pkg.list = c('')\n",
    "bioc.pkg.list = c('survival')\n",
    "\n",
    "##-- Load libraries\n",
    "for(pkg in c(cpan.pkg.list, bioc.pkg.list)) {\n",
    "    print(pkg)\n",
    "    suppressMessages(require(pkg, character.only = TRUE))\n",
    "}"
   ]
  },
  {
   "cell_type": "markdown",
   "metadata": {},
   "source": [
    "### Set up global parameters, input/output directories and files"
   ]
  },
  {
   "cell_type": "code",
   "execution_count": 3,
   "metadata": {
    "collapsed": true
   },
   "outputs": [],
   "source": [
    "##-- Parameters\n",
    "cancer = 'DLBC' \n",
    "study = paste0('TCGA_', cancer)\n",
    "group.key = 'PRDM11.2group'\n",
    "outcome.key = 'overall.survival'\n",
    "time.unit = 'Days'\n",
    "clinical.fields = c('bcr.patient.barcode','gender','race','ethnicity',\n",
    "                    'age.at.initial.pathologic.diagnosis',\n",
    "                    'histological.type','clinical.stage',\n",
    "                    'vital.status','overall.survival',\n",
    "                    'PRDM11','MYC')\n",
    "\n",
    "##-- Set up working directory\n",
    "work.dir = '.'\n",
    "setwd(work.dir)\n",
    "\n",
    "##-- Input/Output directories\n",
    "in.dir = 'input'\n",
    "out.dir = 'output'\n",
    "\n",
    "##-- Input/Output files\n",
    "clinical.file = 'TCGA_DLBC.clinical.txt'"
   ]
  },
  {
   "cell_type": "markdown",
   "metadata": {},
   "source": [
    "### Print analysis info"
   ]
  },
  {
   "cell_type": "code",
   "execution_count": 4,
   "metadata": {
    "collapsed": false
   },
   "outputs": [
    {
     "name": "stdout",
     "output_type": "stream",
     "text": [
      "[1] \"Cancer = DLBC\"\n",
      "[1] \"Group keys = PRDM11.2group\"\n",
      "[1] \"Outcome keys = overall.survival\"\n",
      "[1] \"Clinical file  = TCGA_DLBC.clinical.txt\"\n"
     ]
    }
   ],
   "source": [
    "print(paste0('Cancer = ', cancer))\n",
    "print(paste0('Group keys = ', group.key))\n",
    "print(paste0('Outcome keys = ', outcome.key))\n",
    "print(paste0('Clinical file  = ', clinical.file))"
   ]
  },
  {
   "cell_type": "markdown",
   "metadata": {},
   "source": [
    "### Import data files"
   ]
  },
  {
   "cell_type": "code",
   "execution_count": 5,
   "metadata": {
    "collapsed": false
   },
   "outputs": [],
   "source": [
    "##-- Clinical table with PRDM11 expression\n",
    "data.clinical = read.delim(paste0(in.dir, '/', clinical.file), \n",
    "                           header = T, stringsAsFactors = F)"
   ]
  },
  {
   "cell_type": "markdown",
   "metadata": {},
   "source": [
    "### Preprocess data: Clinical and Expression data"
   ]
  },
  {
   "cell_type": "code",
   "execution_count": 6,
   "metadata": {
    "collapsed": false
   },
   "outputs": [
    {
     "ename": "ERROR",
     "evalue": "Error in detach(clinical): invalid 'name' argument\n",
     "output_type": "error",
     "traceback": [
      "Error in detach(clinical): invalid 'name' argument\n"
     ]
    },
    {
     "data": {
      "text/html": [
       "<table>\n",
       "<thead><tr><th></th><th scope=col>patient</th><th scope=col>gender</th><th scope=col>race</th><th scope=col>ethnicity</th><th scope=col>age</th><th scope=col>histology</th><th scope=col>stage</th><th scope=col>dead</th><th scope=col>overall.survival</th><th scope=col>PRDM11</th><th scope=col>MYC</th><th scope=col>PRDM11.quartile</th><th scope=col>PRDM11.2group</th></tr></thead>\n",
       "<tbody>\n",
       "\t<tr><th scope=row>1</th><td>TCGA-FA-8693</td><td>MALE</td><td>WHITE</td><td>NOT HISPANIC OR LATINO</td><td>75</td><td>Diffuse large B-cell lymphoma (DLBCL) NOS (any anatomic site nodal or extranodal)</td><td>Stage I</td><td>0</td><td>35</td><td>2.771738</td><td>10.05316</td><td>2</td><td>low</td></tr>\n",
       "\t<tr><th scope=row>2</th><td>TCGA-FA-A4BB</td><td>MALE</td><td>WHITE</td><td>NOT HISPANIC OR LATINO</td><td>67</td><td>Diffuse large B-cell lymphoma (DLBCL) NOS (any anatomic site nodal or extranodal)</td><td>Stage IV</td><td>0</td><td>-10</td><td>2.716793</td><td>10.40252</td><td>2</td><td>low</td></tr>\n",
       "\t<tr><th scope=row>3</th><td>TCGA-FA-A4XK</td><td>MALE</td><td>ASIAN</td><td>NOT HISPANIC OR LATINO</td><td>40</td><td>Diffuse large B-cell lymphoma (DLBCL) NOS (any anatomic site nodal or extranodal)</td><td>Stage II</td><td>0</td><td>62</td><td>3.571446</td><td>10.84071</td><td>3</td><td>low</td></tr>\n",
       "</tbody>\n",
       "</table>\n"
      ],
      "text/latex": [
       "\\begin{tabular}{r|lllllllllllll}\n",
       "  & patient & gender & race & ethnicity & age & histology & stage & dead & overall.survival & PRDM11 & MYC & PRDM11.quartile & PRDM11.2group\\\\\n",
       "\\hline\n",
       "\t1 & TCGA-FA-8693 & MALE & WHITE & NOT HISPANIC OR LATINO & 75 & Diffuse large B-cell lymphoma (DLBCL) NOS (any anatomic site nodal or extranodal) & Stage I & 0 & 35 & 2.771738 & 10.05316 & 2 & low\\\\\n",
       "\t2 & TCGA-FA-A4BB & MALE & WHITE & NOT HISPANIC OR LATINO & 67 & Diffuse large B-cell lymphoma (DLBCL) NOS (any anatomic site nodal or extranodal) & Stage IV & 0 & -10 & 2.716793 & 10.40252 & 2 & low\\\\\n",
       "\t3 & TCGA-FA-A4XK & MALE & ASIAN & NOT HISPANIC OR LATINO & 40 & Diffuse large B-cell lymphoma (DLBCL) NOS (any anatomic site nodal or extranodal) & Stage II & 0 & 62 & 3.571446 & 10.84071 & 3 & low\\\\\n",
       "\\end{tabular}\n"
      ],
      "text/plain": [
       "       patient gender  race              ethnicity age\n",
       "1 TCGA-FA-8693   MALE WHITE NOT HISPANIC OR LATINO  75\n",
       "2 TCGA-FA-A4BB   MALE WHITE NOT HISPANIC OR LATINO  67\n",
       "3 TCGA-FA-A4XK   MALE ASIAN NOT HISPANIC OR LATINO  40\n",
       "                                                                          histology\n",
       "1 Diffuse large B-cell lymphoma (DLBCL) NOS (any anatomic site nodal or extranodal)\n",
       "2 Diffuse large B-cell lymphoma (DLBCL) NOS (any anatomic site nodal or extranodal)\n",
       "3 Diffuse large B-cell lymphoma (DLBCL) NOS (any anatomic site nodal or extranodal)\n",
       "     stage dead overall.survival   PRDM11      MYC PRDM11.quartile\n",
       "1  Stage I    0               35 2.771738 10.05316               2\n",
       "2 Stage IV    0              -10 2.716793 10.40252               2\n",
       "3 Stage II    0               62 3.571446 10.84071               3\n",
       "  PRDM11.2group\n",
       "1           low\n",
       "2           low\n",
       "3           low"
      ]
     },
     "execution_count": 6,
     "metadata": {},
     "output_type": "execute_result"
    }
   ],
   "source": [
    "##-- Select clinical fields of interest\n",
    "clinical = data.clinical[,clinical.fields]\n",
    "colnames(clinical) = gsub('bcr.patient.barcode', 'patient', \n",
    "                      gsub('age.at.initial.pathologic.diagnosis',\n",
    "                               'age',\n",
    "                      gsub('histological.type', 'histology', \n",
    "                      gsub('clinical.stage', 'stage', \n",
    "                      gsub('vital.status','dead',\n",
    "                           colnames(clinical))))))\n",
    "# colnames(clinical)\n",
    "\n",
    "##-- Add right censoring\n",
    "# table(clinical$dead)\n",
    "clinical$dead = as.numeric(gsub('Dead', 1, \n",
    "                                gsub('Alive', 0, \n",
    "                                     clinical$dead)))\n",
    "\n",
    "##-- Filter clinical \n",
    "# dim(clinical)\n",
    "hist = 'Diffuse large B-cell lymphoma (DLBCL) NOS (any anatomic site nodal or extranodal)'\n",
    "races = c('BLACK OR AFRICAN AMERICAN')\n",
    "clinical = clinical[clinical$histology == hist &\n",
    "                    ! clinical$race %in% races,]\n",
    "\n",
    "##-- Add expression quartile for PRDM11 gene\n",
    "clinical = within(clinical, \n",
    "                  PRDM11.quartile <- as.integer(cut(PRDM11, \n",
    "                  quantile(PRDM11, probs=0:4/4), \n",
    "                     include.lowest=TRUE)))\n",
    "clinical$PRDM11.2group = gsub(1, 'low', \n",
    "                              gsub(2, 'low', \n",
    "                                   gsub(3, 'low', \n",
    "                                        gsub(4, 'high', \n",
    "                                             clinical$PRDM11.quartile))))\n",
    "\n",
    "detach(clinical)\n",
    "attach(clinical)\n",
    "\n",
    "##-- Peek into the table ready for survival analysis\n",
    "clinical[1:3,]"
   ]
  },
  {
   "cell_type": "markdown",
   "metadata": {},
   "source": [
    "### Run survival analysis"
   ]
  },
  {
   "cell_type": "code",
   "execution_count": 7,
   "metadata": {
    "collapsed": false
   },
   "outputs": [
    {
     "name": "stdout",
     "output_type": "stream",
     "text": [
      "[1] \"PRDM11.2group,overall.survival\"\n"
     ]
    },
    {
     "data": {
      "text/html": [
       "<table>\n",
       "<thead><tr><th></th><th scope=col>sample.group</th><th scope=col>Freq</th></tr></thead>\n",
       "<tbody>\n",
       "\t<tr><th scope=row>1</th><td>high</td><td>10</td></tr>\n",
       "\t<tr><th scope=row>2</th><td>low</td><td>30</td></tr>\n",
       "</tbody>\n",
       "</table>\n"
      ],
      "text/latex": [
       "\\begin{tabular}{r|ll}\n",
       "  & sample.group & Freq\\\\\n",
       "\\hline\n",
       "\t1 & high & 10\\\\\n",
       "\t2 & low & 30\\\\\n",
       "\\end{tabular}\n"
      ],
      "text/plain": [
       "  sample.group Freq\n",
       "1         high   10\n",
       "2          low   30"
      ]
     },
     "execution_count": 7,
     "metadata": {},
     "output_type": "execute_result"
    },
    {
     "data": {
      "text/plain": [
       "Call: survfit(formula = surv ~ sample.group)\n",
       "\n",
       "                  records n.max n.start events median 0.95LCL 0.95UCL\n",
       "sample.group=high      10    10      10      1   6425      NA      NA\n",
       "sample.group=low       30    30      30      3     NA      NA      NA"
      ]
     },
     "execution_count": 7,
     "metadata": {},
     "output_type": "execute_result"
    },
    {
     "data": {
      "text/plain": [
       "Call:\n",
       "survdiff(formula = surv ~ sample.group)\n",
       "\n",
       "                   N Observed Expected (O-E)^2/E (O-E)^2/V\n",
       "sample.group=high 10        1     1.95     0.459      1.38\n",
       "sample.group=low  30        3     2.05     0.435      1.38\n",
       "\n",
       " Chisq= 1.4  on 1 degrees of freedom, p= 0.24 "
      ]
     },
     "execution_count": 7,
     "metadata": {},
     "output_type": "execute_result"
    },
    {
     "data": {
      "application/pdf": "[encoded data removed]",
      "image/jpeg": "[encoded data removed]",
      "image/png": "[encoded data removed]",
      "text/plain": [
       "Plot with title \"Kaplan-Meier survival curves\n",
       "TCGA_DLBC dataset\n",
       "PRDM11.2group overall.survival\""
      ]
     },
     "metadata": {
      "image/svg+xml": {
       "isolated": true
      }
     },
     "output_type": "display_data"
    }
   ],
   "source": [
    "##-- Survival: Specify factor of interest and outcome\n",
    "print(paste0(group.key, ',', outcome.key))\n",
    "\n",
    "##-- Factor\n",
    "sample.group = PRDM11.2group\n",
    "\n",
    "##-- Outcome\n",
    "outcome = overall.survival\n",
    "censor = dead\n",
    "\n",
    "sample.counts = data.frame(table(sample.group))\n",
    "sample.counts\n",
    "\n",
    "if(nrow(sample.counts) <= 1) {\n",
    "  break\n",
    "}\n",
    "\n",
    "##-- Survival: \n",
    "surv = Surv(outcome, censor)\n",
    "surv.fit = survfit(surv ~ sample.group)\n",
    "surv.fit\n",
    "\n",
    "groups = gsub('sample.group=', '', names(surv.fit$strata))\n",
    "counts = surv.fit$n\n",
    "\n",
    "##-- Survival: log-rank test\n",
    "surv = Surv(outcome, censor)\n",
    "surv.diff = survdiff(surv ~ sample.group)\n",
    "surv.diff\n",
    "p.val = 1 - pchisq(surv.diff$chisq, length(surv.diff$n) - 1)\n",
    "p.val = round(p.val, digits = 5)\n",
    "\n",
    "##-- Survival: Plot KM\n",
    "sample.colors = c('#CC0000', '#0000CC')\n",
    "plot.title = paste0('Kaplan-Meier survival curves\\n',\n",
    "                    study, ' dataset\\n',\n",
    "                    group.key, ' ', outcome.key)\n",
    "x.title = paste0(time.unit, ' to Death')\n",
    "y.title = 'Probability of Survival'\n",
    "\n",
    "labels = c()\n",
    "for(i in 1:length(groups)) {\n",
    "  labels = c(labels,\n",
    "             paste0(group.key, '_is_', groups[i],\n",
    "                    ' (n=', surv.fit$n[i],')'))\n",
    "}\n",
    "\n",
    "output = paste0(out.dir, '/', clinical.file, '.', \n",
    "                group.key, '.',outcome.key, '.KMplot.pdf')\n",
    "\n",
    "# pdf(file=output, width=5, height=4)\n",
    "plot(surv.fit, mark=4, col=sample.colors, \n",
    "     lty=1, lwd=1.5,cex=0.8,cex.lab=0.7, cex.axis=0.7, cex.main=0.8,\n",
    "     main=plot.title,\n",
    "     xlab=x.title, \n",
    "     ylab=y.title)\n",
    "legend(x='topright',legend=labels, cex=0.6, col=sample.colors, \n",
    "       lty=1, bty = \"n\")\n",
    "legend(x = 'bottomright', border=NULL, \n",
    "       legend=paste0('p.value = ', p.val), col='black', bty = \"n\")\n",
    "# dev.off()"
   ]
  },
  {
   "cell_type": "markdown",
   "metadata": {},
   "source": [
    "## Associate gene expression with clincial outcome: Survival Analysis - End"
   ]
  },
  {
   "cell_type": "code",
   "execution_count": 8,
   "metadata": {
    "collapsed": false
   },
   "outputs": [
    {
     "name": "stdout",
     "output_type": "stream",
     "text": [
      "[1] \"Program run finished!\"\n"
     ]
    },
    {
     "data": {
      "text/plain": [
       "R version 3.1.3 (2015-03-09)\n",
       "Platform: x86_64-w64-mingw32/x64 (64-bit)\n",
       "Running under: Windows 8 x64 (build 9200)\n",
       "\n",
       "locale:\n",
       "[1] LC_COLLATE=English_United States.1252 \n",
       "[2] LC_CTYPE=English_United States.1252   \n",
       "[3] LC_MONETARY=English_United States.1252\n",
       "[4] LC_NUMERIC=C                          \n",
       "[5] LC_TIME=English_United States.1252    \n",
       "\n",
       "attached base packages:\n",
       "[1] stats     graphics  grDevices utils     datasets  methods   base     \n",
       "\n",
       "other attached packages:\n",
       "[1] survival_2.38-1\n",
       "\n",
       "loaded via a namespace (and not attached):\n",
       " [1] base64enc_0.1-2 digest_0.6.8    evaluate_0.7    IRdisplay_0.3  \n",
       " [5] IRkernel_0.4    jsonlite_0.9.16 magrittr_1.5    repr_0.3       \n",
       " [9] rzmq_0.7.7      splines_3.1.3   stringi_0.4-1   stringr_1.0.0  \n",
       "[13] tools_3.1.3     uuid_0.1-1     "
      ]
     },
     "execution_count": 8,
     "metadata": {},
     "output_type": "execute_result"
    }
   ],
   "source": [
    "print('Program run finished!')\n",
    "\n",
    "##-- Print analysis environment (for reproducible research)\n",
    "sessionInfo()"
   ]
  }
 ],
 "metadata": {
  "anaconda-cloud": {},
  "kernelspec": {
   "display_name": "R",
   "language": "R",
   "name": "ir"
  },
  "language_info": {
   "codemirror_mode": "r",
   "file_extension": ".r",
   "mimetype": "text/x-r-source",
   "name": "R",
   "pygments_lexer": "r",
   "version": "3.1.3"
  }
 },
 "nbformat": 4,
 "nbformat_minor": 0
}
