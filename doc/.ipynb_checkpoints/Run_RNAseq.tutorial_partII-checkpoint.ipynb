{
 "cells": [
  {
   "cell_type": "markdown",
   "metadata": {},
   "source": [
    "# AMIA 2016 Annual Symposium Workshop (WG13)\n",
    "\n",
    "## Automated and Scalable Cloud-based RNA-Seq Data Analysis, Part I\n",
    "\n",
    "\n",
    "Riyue Bao, Ph.D. \n",
    "Center for Research Informatics,\n",
    "The University of Chicago.\n",
    "November 13, 2016\n",
    "\n",
    "***\n",
    "\n",
    "## Objective\n",
    "\n",
    "* Learn the best-practice RNAseq analysis pipeline\n",
    "* Learn commonly used bioinformatics tools\n",
    "* Practice the automated, scalable pipeline\n",
    "* Explore the quality metrics and input/output of the RNAseq pipeline\n",
    "* Visualize result files and quality plots\n",
    "\n",
    "***\n",
    "\n",
    "## Dataset\n",
    "\n",
    "The test datasets used in this workshop are from \n",
    "Fog. et al. 2015. Loss of PRDM11 promotes MYC-driven lymphomagenesis. Blood, 125(8):1272-81\n",
    "<http://www.bloodjournal.org/content/125/8/1272.long?sso-checked=true>\n",
    "\n",
    "***\n",
    "\n",
    "## Workflow\n",
    "\n",
    "Download analysis pipeline from [Github](https://github.com/riyuebao/CRI-Workshop-Nov2016-RNAseq).\n",
    "\n",
    "***\n",
    "\n",
    "## Run pipeline\n",
    "\n",
    "### 1. Open terminal from Jupyter Notebook\n",
    "\n",
    "Go to [New] button on top of the notebook. In the dropdown menu, click [Terminal]. \n",
    "\n",
    "### 2. Launch pipeline\n",
    "\n",
    "```{bash}\n",
    "ubuntu@ip-172-31-21-233:~$ pwd\n",
    "ubuntu@ip-172-31-21-233:~$ cd dev/rnaseq/CRI-Workshop-Nov2016-RNAseq/test/\n",
    "ubuntu@ip-172-31-21-233:~/dev/rnaseq/CRI-Workshop-Nov2016-RNAseq/test$ ls -al\n",
    "ubuntu@ip-172-31-21-233:~/dev/rnaseq/CRI-Workshop-Nov2016-RNAseq/test$ ./Build_RNAseq.DLBC.sh\n",
    "ubuntu@ip-172-31-21-233:~/dev/rnaseq/CRI-Workshop-Nov2016-RNAseq/test$ ls -alt\n",
    "ubuntu@ip-172-31-21-233:~/dev/rnaseq/CRI-Workshop-Nov2016-RNAseq/test$ ./Submit_RNAseq.DLBC.sh &\n",
    "ubuntu@ip-172-31-21-233:~/dev/rnaseq/CRI-Workshop-Nov2016-RNAseq/test$ jobs\n",
    "ubuntu@ip-172-31-21-233:~/dev/rnaseq/CRI-Workshop-Nov2016-RNAseq/test$ ls -alt\n",
    "\n",
    "## takes ~ 5 minutes to finish\n",
    "```"
   ]
  },
  {
   "cell_type": "code",
   "execution_count": null,
   "metadata": {
    "collapsed": true
   },
   "outputs": [],
   "source": []
  }
 ],
 "metadata": {
  "anaconda-cloud": {},
  "kernelspec": {
   "display_name": "R",
   "language": "R",
   "name": "ir"
  },
  "language_info": {
   "codemirror_mode": "r",
   "file_extension": ".r",
   "mimetype": "text/x-r-source",
   "name": "R",
   "pygments_lexer": "r",
   "version": "3.1.3"
  }
 },
 "nbformat": 4,
 "nbformat_minor": 0
}
