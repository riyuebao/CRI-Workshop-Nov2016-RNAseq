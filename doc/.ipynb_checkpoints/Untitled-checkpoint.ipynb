{
 "cells": [
  {
   "cell_type": "markdown",
   "metadata": {},
   "source": [
    "# AMIA 2016 Annual Symposium Workshop (WG13)\n",
    "\n",
    "## Automated and Scalable Cloud-based RNA-Seq Data Analysis, Part IV\n",
    "\n",
    "\n",
    "Riyue Bao, Ph.D. \n",
    "Center for Research Informatics,\n",
    "The University of Chicago.\n",
    "November 13, 2016\n",
    "\n",
    "***\n",
    "\n",
    "## Objective\n",
    "\n",
    "* Learn the background and application of The Cancer Genome Atlas (TCGA)\n",
    "* Learn the structure and access of Genomics Data Commons (GDS)\n",
    "* Explore datasets hosted on GDC\n",
    "* Practice how to associate gene expression with clincial data\n",
    "\n",
    "***"
   ]
  }
 ],
 "metadata": {
  "kernelspec": {
   "display_name": "R",
   "language": "R",
   "name": "ir"
  },
  "language_info": {
   "codemirror_mode": "r",
   "file_extension": ".r",
   "mimetype": "text/x-r-source",
   "name": "R",
   "pygments_lexer": "r",
   "version": "3.3.1"
  }
 },
 "nbformat": 4,
 "nbformat_minor": 0
}
