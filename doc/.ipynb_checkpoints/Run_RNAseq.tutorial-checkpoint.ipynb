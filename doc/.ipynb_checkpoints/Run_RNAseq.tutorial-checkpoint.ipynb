{
 "cells": [
  {
   "cell_type": "markdown",
   "metadata": {
    "collapsed": true
   },
   "source": [
    "# AMIA 2016 Annual Symposium Workshop (WG13)\n",
    "\n",
    "## Automated and Scalable Cloud-based RNA-Seq Data Analysis\n",
    "\n",
    "\n",
    "Riyue Bao, Ph.D. \n",
    "Center for Research Informatics,\n",
    "The University of Chicago.\n",
    "November 13, 2016\n",
    "\n",
    "***\n",
    "\n",
    "## Objective\n",
    "\n",
    "* Learn the applications and basic workflow of RNA-Seq analysis\n",
    "* Learn the concept of cloud computing and scalable pipeline design\n",
    "* Practice the analysis workflow, step by step\n",
    "* Visualize output files and quality plots\n",
    "* Pracice differential gene identification and pathway analysis\n",
    "\n",
    "***\n",
    "\n",
    "## Dataset\n",
    "\n",
    "The test datasets used in this workshop are from \n",
    "Fog. et al. 2015. Loss of PRDM11 promotes MYC-driven lymphomagenesis. Blood, 125(8):1272-81\n",
    "<http://www.bloodjournal.org/content/125/8/1272.long?sso-checked=true>\n",
    "\n",
    "***\n",
    "\n",
    "## Workflow\n",
    "\n",
    "Download analysis pipeline from [Github](https://github.com/riyuebao/CRI-Workshop-Nov2016-RNAseq).\n",
    "\n",
    "***\n",
    "\n",
    "## Identify DEGs: DESeq2\n",
    "\n",
    "Commonly used tool / package for detection of signficant DEGs include `DESeq2`, `limma/limmavoom`, `edgeR`, etc.\n",
    "\n",
    "For this workshop, We will demo how to use DESeq2 to detect DEGs between WT and KO groups.\n",
    "\n",
    "***\n",
    "\n",
    "### Clean the environment\n"
   ]
  },
  {
   "cell_type": "code",
   "execution_count": 70,
   "metadata": {
    "collapsed": true
   },
   "outputs": [],
   "source": [
    "rm(list=ls())"
   ]
  },
  {
   "cell_type": "markdown",
   "metadata": {},
   "source": [
    "### Load libraries / packages"
   ]
  },
  {
   "cell_type": "code",
   "execution_count": 71,
   "metadata": {
    "collapsed": false
   },
   "outputs": [],
   "source": [
    "##-- List packages required in this analysis\n",
    "cpan.pkg.list = c('ggplot2', 'scales', 'ape', 'RColorBrewer', 'reshape','VennDiagram')\n",
    "bioc.pkg.list = c('ctc',  'limma', 'edgeR', 'DESeq2', 'vsn', 'genefilter')"
   ]
  },
  {
   "cell_type": "code",
   "execution_count": 72,
   "metadata": {
    "collapsed": false
   },
   "outputs": [],
   "source": [
    "##-- Set up CPAN repo (required if running IRkernel in Jupyter)\n",
    "cpan.repos = 'http://cran.us.r-project.org'\n",
    "\n",
    "##-- Install CPAN packages\n",
    "# install.packages('ggplot2', repos=cpan.repos) ## included in R essentials\n",
    "# install.packages('scales', repos=cpan.repos) ## included in R essentials\n",
    "# install.packages('ape', repos=cpan.repos)\n",
    "# install.packages('RColorBrewer', repos=cpan.repos)\n",
    "# install.packages('reshape', repos=cpan.repos)\n",
    "# install.packages('VennDiagram', repos=cpan.repos)"
   ]
  },
  {
   "cell_type": "code",
   "execution_count": 73,
   "metadata": {
    "collapsed": false
   },
   "outputs": [
    {
     "name": "stderr",
     "output_type": "stream",
     "text": [
      "Bioconductor version 3.0 (BiocInstaller 1.16.5), ?biocLite for help\n",
      "A new version of Bioconductor is available after installing the most recent\n",
      "  version of R; see http://bioconductor.org/install\n"
     ]
    }
   ],
   "source": [
    "##-- Set up Bioconductor repo\n",
    "source(\"http://bioconductor.org/biocLite.R\")\n",
    "\n",
    "##-- Install Bioc packages\n",
    "# biocLite('ctc')\n",
    "# biocLite('limma')\n",
    "# biocLite('edgeR')\n",
    "# biocLite('DESeq2')\n",
    "# biocLite('vsn')\n",
    "# biocLite('genefilter')"
   ]
  },
  {
   "cell_type": "code",
   "execution_count": 74,
   "metadata": {
    "collapsed": false
   },
   "outputs": [],
   "source": [
    "##-- Load libraries\n",
    "# lapply(c(cpan.pkg.list, bioc.pkg.list),library, character.only = TRUE)\n",
    "suppressMessages(library('ggplot2'))"
   ]
  },
  {
   "cell_type": "markdown",
   "metadata": {},
   "source": [
    "### Set up global parameters for the analysis"
   ]
  }
 ],
 "metadata": {
  "anaconda-cloud": {},
  "kernelspec": {
   "display_name": "R",
   "language": "R",
   "name": "ir"
  },
  "language_info": {
   "codemirror_mode": "r",
   "file_extension": ".r",
   "mimetype": "text/x-r-source",
   "name": "R",
   "pygments_lexer": "r",
   "version": "3.1.3"
  }
 },
 "nbformat": 4,
 "nbformat_minor": 1
}
