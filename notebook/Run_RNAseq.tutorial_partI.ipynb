{
 "cells": [
  {
   "cell_type": "markdown",
   "metadata": {},
   "source": [
    "# AMIA 2016 Annual Symposium Workshop (WG13)\n",
    "\n",
    "## Automated and Scalable Cloud-based RNA-Seq Data Analysis, Part I\n",
    "\n",
    "\n",
    "Riyue Bao, Ph.D. \n",
    "Center for Research Informatics,\n",
    "The University of Chicago.\n",
    "November 13, 2016\n",
    "\n",
    "***\n",
    "\n",
    "## Objective\n",
    "\n",
    "* Learn the background and application of RNAseq technology\n",
    "* Learn the concept of cloud computing and scalable pipeline design\n",
    "\n",
    "***"
   ]
  }
 ],
 "metadata": {
  "kernelspec": {
   "display_name": "R",
   "language": "R",
   "name": "ir"
  },
  "language_info": {
   "codemirror_mode": "r",
   "file_extension": ".r",
   "mimetype": "text/x-r-source",
   "name": "R",
   "pygments_lexer": "r",
   "version": "3.3.1"
  }
 },
 "nbformat": 4,
 "nbformat_minor": 0
}
