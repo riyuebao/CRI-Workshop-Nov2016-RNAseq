{
 "cells": [
  {
   "cell_type": "markdown",
   "metadata": {},
   "source": [
    "# AMIA 2016 Annual Symposium Workshop (WG13)\n",
    "\n",
    "## Automated and Scalable Cloud-based RNA-Seq Data Analysis, Part I\n",
    "\n",
    "\n",
    "Riyue Bao, Ph.D. \n",
    "Center for Research Informatics,\n",
    "The University of Chicago.\n",
    "November 13, 2016\n",
    "\n",
    "***\n",
    "\n",
    "## Objective\n",
    "\n",
    "* Learn the concept and application of next-generation sequencing technology\n",
    "* Learn the concept of cloud computing and scalable pipeline design\n",
    "* Learn the background and clinical application of RNAseq technology\n",
    "\n",
    "***\n",
    "\n",
    "## Workshop Materials\n",
    "\n",
    "* Sample data\n",
    "* Lectures and scripts/pipelines\n",
    "\n",
    "## Workshop Timeline\n",
    "\n",
    "* 8:15 AM - 9:30 AM RNAseq practice\n",
    "* 9:30 AM - 10:45 AM ChIPseq practice\n",
    "* 10:45 AM - 11:00 AM Wrap up\n",
    "\n",
    "<blockquote>\n",
    "**Use Firefox, Chrome for the workshop. Do not use Safari**\n",
    "</blockquote>\n",
    "\n",
    "*** \n",
    "\n",
    "## Contact\n",
    "\n",
    "* CRI bioinformatics team <cribioinfo@cri.uchicago.edu>\n",
    "\n",
    "*** \n",
    "\n",
    "## Introduction"
   ]
  },
  {
   "cell_type": "markdown",
   "metadata": {
    "collapsed": true
   },
   "source": [
    "### Next-generation Sequencing (NGS) Technologies\n",
    "\n",
    "* **Illumina**\n",
    "* Pacific Bio\n",
    "* Nanopore"
   ]
  },
  {
   "cell_type": "markdown",
   "metadata": {},
   "source": [
    "### Cloud Computing\n",
    "\n",
    "* **AWS EC2**\n",
    "* Google \n",
    "* IBM\n",
    "* Microsoft "
   ]
  },
  {
   "cell_type": "markdown",
   "metadata": {},
   "source": [
    "### Applications of NGS and Cloud Computing in Clinical Research"
   ]
  },
  {
   "cell_type": "markdown",
   "metadata": {},
   "source": [
    "\n",
    "***\n",
    "\n",
    "## Let's move on to ... Notebook II (Automated RNAseq pipeline)"
   ]
  }
 ],
 "metadata": {
  "kernelspec": {
   "display_name": "R",
   "language": "R",
   "name": "ir"
  },
  "language_info": {
   "codemirror_mode": "r",
   "file_extension": ".r",
   "mimetype": "text/x-r-source",
   "name": "R",
   "pygments_lexer": "r",
   "version": "3.3.1"
  }
 },
 "nbformat": 4,
 "nbformat_minor": 0
}
