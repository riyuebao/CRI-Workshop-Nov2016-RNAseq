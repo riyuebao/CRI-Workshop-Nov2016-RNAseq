{
 "cells": [
  {
   "cell_type": "markdown",
   "metadata": {},
   "source": [
    "# AMIA 2016 Annual Symposium Workshop (WG13)\n",
    "\n",
    "## Automated and Scalable Cloud-based RNA-Seq Data Analysis, Part I\n",
    "\n",
    "\n",
    "Riyue Bao, Ph.D. \n",
    "Center for Research Informatics,\n",
    "The University of Chicago.\n",
    "November 13, 2016\n",
    "\n",
    "***\n",
    "\n",
    "## Objective\n",
    "\n",
    "* Learn the best-practice RNAseq analysis pipeline\n",
    "* Learn commonly used bioinformatics tools\n",
    "* Practice the automated, scalable pipeline\n",
    "* Explore the quality metrics and input/output of the RNAseq pipeline\n",
    "* Visualize result files and quality plots\n",
    "\n",
    "***\n",
    "\n",
    "## Workflow\n",
    "\n",
    "<img src='assets/RNAseq.workflow.png', title = 'RNAseq workflow', width = 1000, height = 1000>\n",
    "\n",
    "***\n",
    "\n",
    "## Dataset\n",
    "\n",
    "The test datasets used in this workshop are from \n",
    "Fog. et al. 2015. Loss of PRDM11 promotes MYC-driven lymphomagenesis. Blood, 125(8):1272-81\n",
    "<http://www.bloodjournal.org/content/125/8/1272.long?sso-checked=true>\n",
    "\n",
    "***\n",
    "\n",
    "## Pipeline\n",
    "\n",
    "For this workshop, the machine you are using has everything pre-compiled and pre-installed. It is ready for analysis.\n",
    "\n",
    "In the future, if you'd like to use the pipleine on your own machines, download analysis pipeline from [Github](https://github.com/riyuebao/CRI-Workshop-Nov2016-RNAseq) and follow the instructions to install.\n",
    "\n",
    "```{bash}\n",
    "git clone https://github.com/riyuebao/CRI-Workshop-Nov2016-RNAseq.git\n",
    "```\n",
    "\n",
    "Detailed documentation of the pipeline can be found on Github [README](https://github.com/riyuebao/CRI-Workshop-Nov2016-RNAseq) and [wiki](https://github.com/riyuebao/CRI-Workshop-Nov2016-RNAseq/wiki).\n",
    "\n",
    "***\n",
    "\n",
    "## Run pipeline\n",
    "\n",
    "### 1. Open terminal from Jupyter Notebook\n",
    "\n",
    "Go to [New] button on top of the notebook. In the dropdown menu, click [Terminal]. \n",
    "\n",
    "### 2. Launch pipeline (takes ~ 5 minutes)\n",
    "\n",
    "```{bash}\n",
    "##-- commands \n",
    "pwd\n",
    "cd dev/rnaseq/CRI-Workshop-Nov2016-RNAseq/pipeline/test/\n",
    "ls -alt\n",
    "./Build_RNAseq.DLBC.sh &\n",
    "jobs\n",
    "##-- running ... ~ 5 minutes\n",
    "ls -alt\n",
    "```\n",
    "\n",
    "***\n",
    "\n",
    "## How to do RNAseq analysis?\n",
    "\n",
    "* Steps 1 - 5 : Automated pipeline (Run_RNAseq.bds)\n",
    "* Steps 6 - 7 : Interactive R & Bioconductor (Notebook III)\n",
    "\n",
    "*Unless pointed out otherwise, all commands shown apply to the test datasets only. Do not use them directly on other datasets. Refer to the pipeline documentation for instructions on how to set up the pipeline for your own projects.*"
   ]
  },
  {
   "cell_type": "markdown",
   "metadata": {
    "collapsed": true
   },
   "source": [
    "### 1. Quality assessment of raw sequencing reads: FastQC\n",
    "* **Goal**\n",
    "    * Check if the reads are of high quality\n",
    "    * Check if any preprocessing step is required (e.g. base trimming, adapter clipping, read filtering)\n",
    "* **Method**\n",
    "    * [FastQC](http://www.bioinformatics.babraham.ac.uk/projects/fastqc/), *version 0.11.5*\n",
    "    * Scan raw sequencing reads and produce QC reports for evaluation\n",
    "\n",
    "<blockquote>\n",
    "```\n",
    "fastqc --extract -o $out.dir -t 2 --nogroup $r1.fastq.gz\n",
    "```\n",
    "</blockquote>\n",
    "\n",
    "<img src='assets/Figure1.png', title = 'Figure1', width = 800, height = 800>"
   ]
  },
  {
   "cell_type": "markdown",
   "metadata": {},
   "source": [
    "### 2. (optional) Preprocessing: Trimmomatic\n",
    "\n",
    "* **Goal**\n",
    "    * Clean up reads for improved alignment rate and accuracy (for the next step)\n",
    "* **Method**\n",
    "    * [Trimmomatic](http://www.usadellab.org/cms/?page=trimmomatic), *version 0.36*\n",
    "    * **Clip adapters**\n",
    "    * **Trim leading/trailing low quality or N bases**\n",
    "    * Trim reads to a specific length\n",
    "    * Filter out reads of low average quality / of specific length\n",
    "    * Convert base quality scores between Phred33 and Phred64 FastQ format\n",
    "* **Avoid over trimming in RNAseq!**\n",
    "    * Williams et al. 2016. Trimming of sequence reads alters RNA-Seq gene expression estimates. BMC Bioinformatics. [DOI: 10.1186/s12859-016-0956-2](http://bmcbioinformatics.biomedcentral.com/articles/10.1186/s12859-016-0956-2)\n",
    "\n",
    "<blockquote>\n",
    "```\n",
    "java -Xmx4G -jar trimmomatic-0.36.jar SE -threads 4 -phred33 $r1.fastq.gz $r1.trim.fastq.gz ILLUMINACLIP:TruSeq3-SE.fa:2:30:10 LEADING:5 TRAILING:5 MINLEN:36 SLIDINGWINDOW:4:15\n",
    "```\n",
    "</blockquote>\n",
    "\n",
    "<img src='assets/Figure2.png', title = 'Figure2', width = 800, height = 800>"
   ]
  },
  {
   "cell_type": "markdown",
   "metadata": {},
   "source": [
    "### 3. Map reads to reference genome (GRCh38): STAR"
   ]
  },
  {
   "cell_type": "markdown",
   "metadata": {},
   "source": [
    "### 4. (optional) Collect RNAseq metrics & coverage: Picardtools, bedtools, RSeQC"
   ]
  },
  {
   "cell_type": "markdown",
   "metadata": {},
   "source": [
    "### 5. Quantify transcript abundance: featureCounts"
   ]
  },
  {
   "cell_type": "markdown",
   "metadata": {},
   "source": [
    "### 6. Identify differentially expressed genes (DEGs) between conditions: DESeq2"
   ]
  },
  {
   "cell_type": "markdown",
   "metadata": {},
   "source": [
    "### 7. Identify biological processes and pathways enriched in genes of interest: clusterProfilter"
   ]
  },
  {
   "cell_type": "code",
   "execution_count": null,
   "metadata": {
    "collapsed": true
   },
   "outputs": [],
   "source": []
  }
 ],
 "metadata": {
  "anaconda-cloud": {},
  "kernelspec": {
   "display_name": "R",
   "language": "R",
   "name": "ir"
  },
  "language_info": {
   "codemirror_mode": "r",
   "file_extension": ".r",
   "mimetype": "text/x-r-source",
   "name": "R",
   "pygments_lexer": "r",
   "version": "3.3.1"
  }
 },
 "nbformat": 4,
 "nbformat_minor": 0
}
