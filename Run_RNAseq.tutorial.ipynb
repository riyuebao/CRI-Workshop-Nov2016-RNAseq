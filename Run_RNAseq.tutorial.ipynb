{
 "cells": [
  {
   "cell_type": "markdown",
   "metadata": {},
   "source": [
    "# AMIA 2016 Annual Symposium Workshop (WG13)\n",
    "\n",
    "### Mining Large-scale Cancer Genomics Data Using Cloud-based Bioinformatics Approaches (RNAseq)\n",
    "\n",
    "Riyue Bao, Ph.D. \n",
    "Center for Research Informatics,\n",
    "The University of Chicago.\n",
    "8:45 AM - 10:00 AM, November 13, 2016\n",
    "\n",
    "***\n",
    "\n",
    "## Objective\n",
    "\n",
    "* **Part I: Introduction to RNAseq technology, clinical application and analysis pipeline**\n",
    "    * Learn the background and clinical application of RNAseq\n",
    "    * Learn the best-practice analysis protocol\n",
    "* **Part II: Practice how to perform downstream analysis of RNAseq data (hands-on)**\n",
    "    * Detect differentially expressed genes (DEGs) between conditions\n",
    "    * Identify pathways / network enriched in genes of interest\n",
    "    * Generate high-quality publication figures (Principle Component Analysis (PCA), heatmap, pathway, etc.)\n",
    "* **Part III: Practice how to associate RNAseq with clincial data (hands-on)**\n",
    "    * The Cancer Genome Atlas (TCGA) \n",
    "    * NCI Genomics Data Commons (GDC) hosts the new harmonized TCGA data\n",
    "\n",
    "***\n",
    "\n",
    "## Dataset\n",
    "\n",
    "* **Data to run RNAseq analysis**\n",
    "    * Two groups (*PRDM11* KO vs WT, U2932 cells), 6 samples\n",
    "    * Aim to identify DEGs / pathways altered between KO and WT groups\n",
    "    * Fog. et al. 2015. [Loss of PRDM11 promotes MYC-driven lymphomagenesis](http://www.bloodjournal.org/content/125/8/1272.long?sso-checked=true). Blood 125(8):1272-81\n",
    "\n",
    "* **Data to associate RNAseq with clinical outcome**\n",
    "    * TCGA ovarian cancer, 379 primary tumors\n",
    "    * Aim to use gene expression to group patients into subtypes and detect survival differences\n",
    "    * The Cancer Genome Atlas Research Network. 2011. [Integrated genomic analyses of ovarian carcinoma](http://www.nature.com/nature/journal/v474/n7353/full/nature10166.html). Nature 474, 609–615\n",
    "\n",
    "***\n",
    "\n",
    "## Workflow\n",
    "\n",
    "<img src='notebook_ext/ipynb_data/assets/RNAseq.workflow.v2.png', title = 'RNAseq workflow', width = 900, height = 900>\n",
    "\n",
    "***\n",
    "\n",
    "## Part I: Introduction to RNAseq technology, clinical application and analysis pipeline"
   ]
  },
  {
   "cell_type": "markdown",
   "metadata": {},
   "source": [
    "### 1.1 What is RNAseq\n",
    "\n",
    "* **High-throughput sequencing of RNA to profile, identify or assemble transcripts**\n",
    "    * Detect gene / isoform expression changes between conditions\n",
    "    * Identify novel splice sites / exons, mutations, fusion genes, etc.\n",
    "    * Available for all species (reference genome is optional): reference genome-guided alignment or *de novo* assembly\n",
    "    * Transcriptome-wide approach for quantitative measurements and gene discovery without prior knowledge\n",
    "<img src='notebook_ext/ipynb_data/assets/Figure14.png', title = 'A typical RNAseq experiment', width = 800, height = 400>\n",
    "* **Experimental Design** ([considerations and limitations](https://github.com/riyuebao/CRI-Workshop-Nov2016-RNAseq/tree/master/notebook_ext/ipynb_data/assets/Figure13.png))\n",
    "<img src='notebook_ext/ipynb_data/assets/Figure15.png', title = 'Biological replicates', width = 400, height = 400>"
   ]
  },
  {
   "cell_type": "markdown",
   "metadata": {},
   "source": [
    "### 1.2 Clinical applications "
   ]
  },
  {
   "cell_type": "markdown",
   "metadata": {},
   "source": [
    "### 1.3 How to perform RNAseq analysis\n",
    "\n",
    "The best-practice analysis protocol takes 8 major steps.\n",
    "\n",
    "### 1.3.1 - 1.3.2 Quality accessment and preprocessing of raw sequencing reads\n",
    "\n",
    "* **Raw sequencing reads** are stored in FastQ format (e.g. `KO01.fastq.gz`), where each read is presented by 4 lines\n",
    "<img src='notebook_ext/ipynb_data/assets/Figure10.png', title = 'Sequencing reads in FastQ format', width = 600, height = 90>\n",
    "* QC produces reports that help you evaluate if a sequencing run is successful and if reads are of high quality ([example](https://github.com/riyuebao/CRI-Workshop-Nov2016-RNAseq/tree/master/notebook_ext/ipynb_data/assets/multiqc_report.html))\n",
    "* *Optional* Preprocess reads to improve mapping rate and accuracy (in the next step, 1.3.3)\n",
    "    * Trim low-quality bases, clip adapters, etc.\n",
    "    * Avoid overtrimming in RNAseq! ([Williams et al. 2016](http://bmcbioinformatics.biomedcentral.com/articles/10.1186/s12859-016-0956-2))\n",
    "\n",
    "### 1.3.3 - 1.3.4 Map reads to reference genome and quantification of transcript abundance\n",
    "* Read mapping identifies the location in the genome where a sequencing read comes from\n",
    "* Accurate mapping result is the key for quantification and DEG identification\n",
    "* **splice-aware aligner** (e.g. [STAR](https://github.com/alexdobin/STAR))\n",
    "<img src='notebook_ext/ipynb_data/assets/Figure12.png', title = 'RNAseq mapping result', width = 600, height = 400>\n",
    "* **Different aligners may generate very different results** ([Engström et al. 2013](http://www.nature.com/nmeth/journal/v10/n12/full/nmeth.2722.html))\n",
    "\n",
    "### RNAseq metrics\n",
    "* Collect metrics to evaluate RNA sample quality and identify potential problems ([example](https://github.com/riyuebao/CRI-Workshop-Nov2016-RNAseq/tree/master/notebook_ext/ipynb_data/assets/multiqc_report.html))\n",
    "    * **Is there high-level genomic DNA contamination?**\n",
    "    * Is the RNA highly degraded?\n",
    "    * Was ribosome RNA sucessfully depleted during library prep?\n",
    "    * How do reads distribute on the genome? (exons, introns, intergenic, etc.)\n",
    "    * Is the strandness of read alignment consistent with library type? (non-stranded or forward/reverse strand-specific)\n",
    "    * Does the target gene knocked down in KO samples have reduced expression as expected?\n",
    "<blockquote>\n",
    "Which sample (S1-4) has the most severe contamination from genomic DNA?   \n",
    "Hint: higher percentage of intergenic reads indicates more severe DNA contamination in RNA samples\n",
    "</blockquote>\n",
    "<img src='notebook_ext/ipynb_data/assets/Figure5.png', title = 'Figure5', width = 600, height = 600>\n",
    "*For answers to other questions, refer to the extended version of notebooks* (`notebook_ext/02.Run_RNAseq.tutorial.ipynb`)"
   ]
  },
  {
   "cell_type": "markdown",
   "metadata": {},
   "source": [
    "* From raw sequencing to transcript quantification (steps 1-5) are **automated through BigDataScript pipeline**.\n",
    "* DEG and pathway analysis (steps 6 to 7) can be automated, but it is recommended to **perform the analysis interactively to better interpret the results**.\n",
    "\n",
    "*Due to time limit, we will not run the pipeline in this workshop. Since it is automated, participants are encouraged to practice it post-workshop following the instructions at [Github](https://github.com/riyuebao/CRI-Workshop-Nov2016-RNAseq)*"
   ]
  },
  {
   "cell_type": "markdown",
   "metadata": {
    "collapsed": true
   },
   "source": [
    "## Part II: Practice the downstream analysis of RNAseq data"
   ]
  },
  {
   "cell_type": "markdown",
   "metadata": {},
   "source": [
    "## Part III: Practice how to associate RNAseq with clincial data "
   ]
  },
  {
   "cell_type": "code",
   "execution_count": null,
   "metadata": {
    "collapsed": true
   },
   "outputs": [],
   "source": []
  }
 ],
 "metadata": {
  "kernelspec": {
   "display_name": "R",
   "language": "R",
   "name": "ir"
  },
  "language_info": {
   "codemirror_mode": "r",
   "file_extension": ".r",
   "mimetype": "text/x-r-source",
   "name": "R",
   "pygments_lexer": "r",
   "version": "3.3.1"
  }
 },
 "nbformat": 4,
 "nbformat_minor": 0
}
