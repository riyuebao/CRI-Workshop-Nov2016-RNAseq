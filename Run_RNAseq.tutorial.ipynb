{
 "cells": [
  {
   "cell_type": "markdown",
   "metadata": {},
   "source": [
    "# AMIA 2016 Annual Symposium Workshop (WG13)\n",
    "\n",
    "## Automated and Scalable Cloud-based RNA-Seq Data Analysis, Part II\n",
    "\n",
    "\n",
    "Riyue Bao, Ph.D. \n",
    "Center for Research Informatics,\n",
    "The University of Chicago.\n",
    "November 13, 2016\n",
    "\n",
    "***\n",
    "\n",
    "## Objective\n",
    "\n",
    "* **Part I: Introduction to RNAseq technology, clinical application and analysis pipeline**\n",
    "    * Learn the background and clinical application of RNAseq\n",
    "    * Learn the best-practice analysis protocol\n",
    "* **Part II: Practice how to perform downstream analysis of RNAseq data (hands-on)**\n",
    "    * Detect differentially expressed genes (DEGs) between conditions\n",
    "    * Identify pathways / network enriched in genes of interest\n",
    "    * Generate high-quality publication figures (Principle Component Analysis (PCA), heatmap, pathway, etc.)\n",
    "* **Part III: Practice how to associate RNAseq with clincial data (hands-on)**\n",
    "    * The Cancer Genome Atlas (TCGA) \n",
    "    * NCI Genomics Data Commons (GDC) hosts the new harmonized TCGA data\n",
    "\n",
    "***\n",
    "\n",
    "## Dataset\n",
    "\n",
    "* **Data to run RNAseq analysis**\n",
    "    * Two groups (*PRDM11* KO vs WT, U2932 cells), 6 samples\n",
    "    * Aim to identify DEGs / pathways altered between KO and WT groups\n",
    "    * Fog. et al. 2015. [Loss of PRDM11 promotes MYC-driven lymphomagenesis](http://www.bloodjournal.org/content/125/8/1272.long?sso-checked=true). Blood 125(8):1272-81\n",
    "\n",
    "* **Data to associate RNAseq with clinical outcome**\n",
    "    * TCGA ovarian cancer, 379 primary tumors\n",
    "    * Aim to use gene expression to group patients into subtypes and detect survival differences\n",
    "    * The Cancer Genome Atlas Research Network. 2011. [Integrated genomic analyses of ovarian carcinoma](http://www.nature.com/nature/journal/v474/n7353/full/nature10166.html). Nature 474, 609–615\n",
    "\n",
    "***\n",
    "\n",
    "## Workflow\n",
    "\n",
    "<img src='notebook_ext/ipynb_data/assets/RNAseq.workflow.v2.png', title = 'RNAseq workflow', width = 1000, height = 1000>\n",
    "\n",
    "***\n",
    "\n",
    "## Part I: Introduction to RNAseq technology, clinical application and analysis pipeline"
   ]
  },
  {
   "cell_type": "markdown",
   "metadata": {},
   "source": [
    "### 1.1 What is RNAseq"
   ]
  },
  {
   "cell_type": "markdown",
   "metadata": {},
   "source": [
    "### 1.2 Clinical applications "
   ]
  },
  {
   "cell_type": "markdown",
   "metadata": {},
   "source": [
    "### 1.3 How to perform RNAseq analysis\n",
    "\n",
    "* From raw sequencing to transcript quantification (steps 1-5) are **automated through BigDataScript pipeline**.\n",
    "* DEG and pathway analysis (steps 6 to 7) can be automated, but it is recommended to **perform the analysis interactively to better interpret the results**.\n",
    "\n",
    "*Due to time limit, we will not run the pipeline in this workshop. Since it is automated, participants are encouraged to practice it post-workshop following the instructions at [Github](https://github.com/riyuebao/CRI-Workshop-Nov2016-RNAseq)*\n",
    "\n",
    "### 1.3.1 Quality accessment of raw sequencing files"
   ]
  },
  {
   "cell_type": "markdown",
   "metadata": {
    "collapsed": true
   },
   "source": [
    "## Part II: Practice the downstream analysis of RNAseq data"
   ]
  },
  {
   "cell_type": "markdown",
   "metadata": {},
   "source": [
    "## Part III: Practice how to associate RNAseq with clincial data "
   ]
  },
  {
   "cell_type": "code",
   "execution_count": null,
   "metadata": {
    "collapsed": true
   },
   "outputs": [],
   "source": []
  }
 ],
 "metadata": {
  "kernelspec": {
   "display_name": "R",
   "language": "R",
   "name": "ir"
  },
  "language_info": {
   "codemirror_mode": "r",
   "file_extension": ".r",
   "mimetype": "text/x-r-source",
   "name": "R",
   "pygments_lexer": "r",
   "version": "3.3.1"
  }
 },
 "nbformat": 4,
 "nbformat_minor": 0
}
